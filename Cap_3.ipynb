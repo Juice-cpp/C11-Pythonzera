{
  "cells": [
    {
      "cell_type": "markdown",
      "source": [
        "# Atividade 1"
      ],
      "metadata": {
        "id": "JpmPWxe-6cNk"
      }
    },
    {
      "cell_type": "code",
      "source": [
        "#list de times já em ordem\n",
        "\n",
        "times_em_colocacao_decrescente = ['Liverpool', 'Barcelona', 'Arsenal', 'Inter de Milão', 'Atlético Madrid']"
      ],
      "outputs": [],
      "execution_count": 206,
      "metadata": {
        "id": "lkEW0Gzs0J71"
      }
    },
    {
      "cell_type": "code",
      "source": [
        "# a)\n",
        "\n",
        "print(times_em_colocacao_decrescente[0:3]) #fatiamento"
      ],
      "outputs": [
        {
          "output_type": "stream",
          "name": "stdout",
          "text": "['Liverpool', 'Barcelona', 'Arsenal']\n"
        }
      ],
      "execution_count": 212,
      "metadata": {
        "colab": {
          "base_uri": "https://localhost:8080/"
        },
        "id": "Hq1juf3c1DHL",
        "outputId": "26493521-3342-4d3b-b3bf-ac2d8ac1405f"
      }
    },
    {
      "cell_type": "code",
      "source": [
        "# b)\n",
        "\n",
        "print(times_em_colocacao_decrescente[3:5]) #fatiamento"
      ],
      "outputs": [
        {
          "output_type": "stream",
          "name": "stdout",
          "text": "['Inter de Milão', 'Atlético Madrid']\n"
        }
      ],
      "execution_count": 208,
      "metadata": {
        "colab": {
          "base_uri": "https://localhost:8080/"
        },
        "id": "a5rlqOVo1qGf",
        "outputId": "3c63e53f-6316-4599-fcdc-429d3ac673aa"
      }
    },
    {
      "cell_type": "code",
      "source": [
        "# c)\n",
        "\n",
        "print(sorted(times_em_ordem_alfabetica_crescente))"
      ],
      "outputs": [
        {
          "output_type": "stream",
          "name": "stdout",
          "text": "['Arsenal', 'Atlético Madrid', 'Barcelona', 'Inter de Milão', 'Liverpool']\n"
        }
      ],
      "execution_count": 209,
      "metadata": {
        "colab": {
          "base_uri": "https://localhost:8080/"
        },
        "id": "qNo-Kvgp109Z",
        "outputId": "72b1d872-d768-4a4c-eccd-fb573bd4a028"
      }
    },
    {
      "cell_type": "code",
      "source": [
        "# d)\n",
        "\n",
        "print(times_em_colocacao_decrescente.index('Barcelona') + 1) #puxa o index da str e arruma a colocação"
      ],
      "outputs": [
        {
          "output_type": "stream",
          "name": "stdout",
          "text": "2\n"
        }
      ],
      "execution_count": 210,
      "metadata": {
        "colab": {
          "base_uri": "https://localhost:8080/"
        },
        "id": "qqiHeOZZ29wi",
        "outputId": "456c2c22-206e-47ee-b6ac-0016fcb587d7"
      }
    },
    {
      "cell_type": "markdown",
      "source": [
        "# Atividade 2"
      ],
      "metadata": {
        "id": "FEZtI79Z6p_y"
      }
    },
    {
      "cell_type": "code",
      "source": [
        "#sets para cada loja\n",
        "\n",
        "loja1 = {\"iPhone 13\", \"Galaxy S22\", \"Xiaomi Mi 11\", \"Moto G100\"}\n",
        "loja2 = {\"iPhone 13\", \"Galaxy S22\", \"OnePlus 9\", \"Moto G100\"}\n",
        "type(loja1)"
      ],
      "outputs": [
        {
          "output_type": "execute_result",
          "execution_count": 203,
          "data": {
            "text/plain": "set"
          },
          "metadata": {}
        }
      ],
      "execution_count": 203,
      "metadata": {
        "id": "nXeJke0M6pZv",
        "colab": {
          "base_uri": "https://localhost:8080/"
        },
        "outputId": "53aaf782-f5ca-4884-cf94-5e55a8ff67de"
      }
    },
    {
      "cell_type": "code",
      "source": [
        "#modelos disponíveis no total\n",
        "\n",
        "print(loja1.union(loja2))"
      ],
      "outputs": [
        {
          "output_type": "stream",
          "name": "stdout",
          "text": "{'Moto G100', 'OnePlus 9', 'Xiaomi Mi 11', 'iPhone 13', 'Galaxy S22'}\n"
        }
      ],
      "execution_count": 204,
      "metadata": {
        "colab": {
          "base_uri": "https://localhost:8080/"
        },
        "id": "0yyGWGDiP62J",
        "outputId": "37e36b7b-fb1d-40fb-b3a3-5978c8d5fdf1"
      }
    },
    {
      "cell_type": "code",
      "source": [
        "#modelos disponíveis em ambas as lojas\n",
        "\n",
        "print(loja1.intersection(loja2))"
      ],
      "outputs": [
        {
          "output_type": "stream",
          "name": "stdout",
          "text": "{'Galaxy S22', 'Moto G100', 'iPhone 13'}\n"
        }
      ],
      "execution_count": 205,
      "metadata": {
        "colab": {
          "base_uri": "https://localhost:8080/"
        },
        "id": "31WEE0zBQJgB",
        "outputId": "acd61d29-844a-43bb-d6ae-6e8ab131432b"
      }
    },
    {
      "cell_type": "markdown",
      "source": [
        "# Atividade 3"
      ],
      "metadata": {
        "id": "UZfxE5myPMWJ"
      }
    },
    {
      "cell_type": "code",
      "source": [
        "#dict para guardar as informações dos alunos\n",
        "\n",
        "aluno = {}"
      ],
      "outputs": [],
      "execution_count": 215,
      "metadata": {
        "id": "dXgjbV3jJunr"
      }
    },
    {
      "cell_type": "code",
      "source": [
        "#chave do nome\n",
        "\n",
        "aluno[\"nome\"] = input(\"Nome do aluno: \")"
      ],
      "outputs": [
        {
          "output_type": "stream",
          "name": "stdout",
          "text": "Nome do aluno: Júlio\n"
        }
      ],
      "execution_count": 216,
      "metadata": {
        "colab": {
          "base_uri": "https://localhost:8080/"
        },
        "id": "xDVx6zKcRT2p",
        "outputId": "1cc5569f-4be4-419e-a6a7-7eebbe659e9a"
      }
    },
    {
      "cell_type": "code",
      "source": [
        "#chave da média\n",
        "\n",
        "aluno[\"media\"] = float(input(\"Média do aluno: \"))"
      ],
      "outputs": [
        {
          "output_type": "stream",
          "name": "stdout",
          "text": "Média do aluno: 70\n"
        }
      ],
      "execution_count": 217,
      "metadata": {
        "colab": {
          "base_uri": "https://localhost:8080/"
        },
        "id": "-oPvoiquR-i5",
        "outputId": "1d312c9a-cdaa-4a00-a770-06735a5d3fe0"
      }
    },
    {
      "cell_type": "code",
      "source": [
        "#chave da situação\n",
        "\n",
        "aluno[\"situacao\"] = \"AP\" if aluno[\"media\"] >= 50 else \"RP\""
      ],
      "outputs": [],
      "execution_count": 218,
      "metadata": {
        "id": "bLeoX_sgSMTw"
      }
    },
    {
      "cell_type": "code",
      "source": [
        "print(aluno)"
      ],
      "outputs": [
        {
          "output_type": "stream",
          "name": "stdout",
          "text": "{'nome': 'Júlio', 'media': 70.0, 'situacao': 'AP'}\n"
        }
      ],
      "execution_count": 221,
      "metadata": {
        "colab": {
          "base_uri": "https://localhost:8080/"
        },
        "id": "kCkIw-TUSfe5",
        "outputId": "1347c7f0-54b4-429c-ac37-2271f95af4fc"
      }
    },
    {
      "cell_type": "markdown",
      "source": [
        "# Atividade 4"
      ],
      "metadata": {
        "id": "5sY3Ve95SsDS"
      }
    },
    {
      "cell_type": "code",
      "source": [
        "#list para ler as informações\n",
        "\n",
        "pessoas = []\n",
        "for i in range(3):\n",
        "    nome = input(f\"Nome da {i+1}ª pessoa: \")\n",
        "    peso = float(input(f\"Peso da {i+1}ª pessoa: \"))\n",
        "    pessoas.append((nome, peso)) #informações armazenadas em tuplas"
      ],
      "outputs": [
        {
          "output_type": "stream",
          "name": "stdout",
          "text": "Nome da 1ª pessoa: João\nPeso da 1ª pessoa: 70.5\nNome da 2ª pessoa: Ana\nPeso da 2ª pessoa: 46.2\nNome da 3ª pessoa: Paulo\nPeso da 3ª pessoa: 81.9\n"
        }
      ],
      "execution_count": 239,
      "metadata": {
        "colab": {
          "base_uri": "https://localhost:8080/"
        },
        "id": "eCgKBAG6SmmR",
        "outputId": "2d6e8aac-1356-45c5-d72c-601a501f2278"
      }
    },
    {
      "cell_type": "code",
      "source": [
        "#a pessoa mais pesada\n",
        "\n",
        "print(max(pessoas)[0])"
      ],
      "outputs": [
        {
          "output_type": "stream",
          "name": "stdout",
          "text": "Paulo\n"
        }
      ],
      "execution_count": 240,
      "metadata": {
        "colab": {
          "base_uri": "https://localhost:8080/"
        },
        "id": "SprCx5cLTeUC",
        "outputId": "b62f1145-12ab-408a-ea22-10533dc23637"
      }
    },
    {
      "cell_type": "code",
      "source": [
        "#a pessoa menos pesada\n",
        "\n",
        "print(min(pessoas)[0])"
      ],
      "outputs": [
        {
          "output_type": "stream",
          "name": "stdout",
          "text": "Ana\n"
        }
      ],
      "execution_count": 241,
      "metadata": {
        "colab": {
          "base_uri": "https://localhost:8080/"
        },
        "id": "oimrKnJ4UhSL",
        "outputId": "918c571c-4fec-4c53-9862-75cda0bd2202"
      }
    },
    {
      "cell_type": "markdown",
      "source": [
        "# Atividade 5"
      ],
      "metadata": {
        "id": "l4H2L4B8W2ix"
      }
    },
    {
      "cell_type": "code",
      "source": [
        "#leitura das informações\n",
        "\n",
        "n = int(input(\"Quantas pessoas no grupo? \"))\n",
        "grupo = []\n",
        "\n",
        "for i in range(n):\n",
        "    nome = input(f\"Nome da {i+1}ª pessoa: \")\n",
        "    idade = int(input(f\"Idade: \"))\n",
        "    sexo = input(f\"Sexo (M/F): \").upper()\n",
        "    grupo.append({\"nome\": nome, \"idade\": idade, \"sexo\": sexo})"
      ],
      "outputs": [
        {
          "output_type": "stream",
          "name": "stdout",
          "text": "Quantas pessoas no grupo? 4\nNome da 1ª pessoa: Ana\nIdade: 32\nSexo (M/F): f\nNome da 2ª pessoa: João\nIdade: 68\nSexo (M/F): m\nNome da 3ª pessoa: Joana\nIdade: 15\nSexo (M/F): F\nNome da 4ª pessoa: Bia\nIdade: 5\nSexo (M/F): F\n"
        }
      ],
      "execution_count": 236,
      "metadata": {
        "colab": {
          "base_uri": "https://localhost:8080/"
        },
        "id": "8F-EElImWxZJ",
        "outputId": "7f7671fd-5602-4591-b633-f23c47411f0e"
      }
    },
    {
      "cell_type": "code",
      "source": [
        "# a)\n",
        "\n",
        "#média de idade\n",
        "media_idade = sum(p[\"idade\"] for p in grupo) / len(grupo)\n",
        "\n",
        "print(media_idade)"
      ],
      "outputs": [],
      "execution_count": null,
      "metadata": {
        "colab": {
          "base_uri": "https://localhost:8080/"
        },
        "id": "ZAcwn6uGXRiK",
        "outputId": "f3f221cd-0624-417d-96ec-027bec184a8a"
      }
    },
    {
      "cell_type": "code",
      "source": [
        "# b)\n",
        "\n",
        "#mulheres com menos de 20 anos\n",
        "mulheres_menor_20 = sum(1 for p in grupo if p[\"sexo\"] == \"F\" and p[\"idade\"] < 20)\n",
        "\n",
        "print(mulheres_menor_20)"
      ],
      "outputs": [
        {
          "output_type": "stream",
          "name": "stdout",
          "text": "2\n"
        }
      ],
      "execution_count": 238,
      "metadata": {
        "colab": {
          "base_uri": "https://localhost:8080/"
        },
        "id": "zcKRBONwXZp4",
        "outputId": "6178a756-19ef-4a82-844f-bd7ce8f391ee"
      }
    }
  ],
  "metadata": {
    "colab": {
      "provenance": []
    },
    "kernelspec": {
      "name": "python",
      "language": "python",
      "display_name": "Pyolite (preview)"
    },
    "language_info": {
      "codemirror_mode": {
        "name": "python",
        "version": 3
      },
      "file_extension": ".py",
      "mimetype": "text/x-python",
      "name": "python",
      "nbconvert_exporter": "python",
      "pygments_lexer": "ipython3",
      "version": "3.8"
    },
    "kernel_info": {
      "name": "python"
    },
    "nteract": {
      "version": "nteract-front-end@1.0.0"
    }
  },
  "nbformat": 4,
  "nbformat_minor": 0
}