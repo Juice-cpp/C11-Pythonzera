{
  "nbformat": 4,
  "nbformat_minor": 0,
  "metadata": {
    "colab": {
      "provenance": []
    },
    "kernelspec": {
      "name": "python3",
      "display_name": "Python 3"
    },
    "language_info": {
      "name": "python"
    }
  },
  "cells": [
    {
      "cell_type": "code",
      "execution_count": 1,
      "metadata": {
        "id": "TIGwJpYryK4c"
      },
      "outputs": [],
      "source": [
        "import numpy as np"
      ]
    },
    {
      "cell_type": "code",
      "source": [
        "dataset = np.loadtxt('/content/sample_data/space.csv', delimiter = ';', dtype=str, encoding='utf-8')"
      ],
      "metadata": {
        "id": "ZLJKYQOjiO_L"
      },
      "execution_count": 8,
      "outputs": []
    },
    {
      "cell_type": "code",
      "source": [
        "print(dataset)"
      ],
      "metadata": {
        "colab": {
          "base_uri": "https://localhost:8080/"
        },
        "id": "j1DJgQY1kcjw",
        "outputId": "b487b311-b54a-4441-9b01-2c65d74416a1"
      },
      "execution_count": 10,
      "outputs": [
        {
          "output_type": "stream",
          "name": "stdout",
          "text": [
            "[['\\ufeffNum' 'Company Name' 'Location' ... 'Status Rocket' ' Cost'\n",
            "  'Status Mission']\n",
            " ['0' 'SpaceX' 'LC-39A Kennedy Space Center Florida USA' ...\n",
            "  'StatusActive' '50.0 ' 'Success']\n",
            " ['1' 'CASC' 'Site 9401 (SLS-2) Jiuquan Satellite Launch Center China'\n",
            "  ... 'StatusActive' '29.75 ' 'Success']\n",
            " ...\n",
            " ['4321' 'US Navy' 'LC-18A Cape Canaveral AFS Florida USA' ...\n",
            "  'StatusRetired' '0' 'Failure']\n",
            " ['4322' 'RVSN USSR' 'Site 1/5 Baikonur Cosmodrome Kazakhstan' ...\n",
            "  'StatusRetired' '0' 'Success']\n",
            " ['4323' 'RVSN USSR' 'Site 1/5 Baikonur Cosmodrome Kazakhstan' ...\n",
            "  'StatusRetired' '0' 'Success']]\n"
          ]
        }
      ]
    },
    {
      "cell_type": "markdown",
      "source": [
        "1)"
      ],
      "metadata": {
        "id": "_qKL5j2ZmYwB"
      }
    },
    {
      "cell_type": "code",
      "source": [
        "np.argwhere(dataset == 'Status Mission')"
      ],
      "metadata": {
        "colab": {
          "base_uri": "https://localhost:8080/"
        },
        "id": "dALTaTLFkd8t",
        "outputId": "f57db8d3-705a-4db8-c0bf-10a08a369d24"
      },
      "execution_count": 25,
      "outputs": [
        {
          "output_type": "execute_result",
          "data": {
            "text/plain": [
              "array([[0, 7]])"
            ]
          },
          "metadata": {},
          "execution_count": 25
        }
      ]
    },
    {
      "cell_type": "code",
      "source": [
        "status = dataset[1:, 7]\n",
        "print(status)"
      ],
      "metadata": {
        "colab": {
          "base_uri": "https://localhost:8080/"
        },
        "id": "RMe_QSztmaBR",
        "outputId": "70455fc9-8dae-4e62-8b1e-8148287099c6"
      },
      "execution_count": 17,
      "outputs": [
        {
          "output_type": "stream",
          "name": "stdout",
          "text": [
            "['Success' 'Success' 'Success' ... 'Failure' 'Success' 'Success']\n"
          ]
        }
      ]
    },
    {
      "cell_type": "code",
      "source": [
        "total = len(status)\n",
        "print(total)"
      ],
      "metadata": {
        "colab": {
          "base_uri": "https://localhost:8080/"
        },
        "id": "XGdjfPz4n8Ik",
        "outputId": "7d062be8-8a66-4e5b-ae64-1972b5d4c8f3"
      },
      "execution_count": 18,
      "outputs": [
        {
          "output_type": "stream",
          "name": "stdout",
          "text": [
            "4324\n"
          ]
        }
      ]
    },
    {
      "cell_type": "code",
      "source": [
        "sucesso = np.sum(status == \"Success\")\n",
        "print(sucesso)"
      ],
      "metadata": {
        "colab": {
          "base_uri": "https://localhost:8080/"
        },
        "id": "maCzwjg2oEpq",
        "outputId": "4473041c-cccb-4e7a-b319-baf57c7ebfc4"
      },
      "execution_count": 19,
      "outputs": [
        {
          "output_type": "stream",
          "name": "stdout",
          "text": [
            "3879\n"
          ]
        }
      ]
    },
    {
      "cell_type": "code",
      "source": [
        "porcentagem = sucesso / total * 100\n",
        "print(f\"{porcentagem:.2f}%\")"
      ],
      "metadata": {
        "colab": {
          "base_uri": "https://localhost:8080/"
        },
        "id": "1jMrWfBqoOoh",
        "outputId": "375e2a60-c673-4cc2-c42a-bf058f2a8c01"
      },
      "execution_count": 21,
      "outputs": [
        {
          "output_type": "stream",
          "name": "stdout",
          "text": [
            "89.71%\n"
          ]
        }
      ]
    },
    {
      "cell_type": "markdown",
      "source": [
        "2)"
      ],
      "metadata": {
        "id": "92MsxKgloTrZ"
      }
    },
    {
      "cell_type": "code",
      "source": [
        "np.argwhere(dataset == ' Cost')"
      ],
      "metadata": {
        "colab": {
          "base_uri": "https://localhost:8080/"
        },
        "id": "b7xTmwNBoX1a",
        "outputId": "32e9733b-8813-4f41-ec18-43b4a0df654e"
      },
      "execution_count": 26,
      "outputs": [
        {
          "output_type": "execute_result",
          "data": {
            "text/plain": [
              "array([[0, 6]])"
            ]
          },
          "metadata": {},
          "execution_count": 26
        }
      ]
    },
    {
      "cell_type": "code",
      "source": [
        "gasto = dataset[1:, 6].astype(float)\n",
        "print(gasto)"
      ],
      "metadata": {
        "colab": {
          "base_uri": "https://localhost:8080/"
        },
        "id": "2pe4GfNZouyk",
        "outputId": "bb10cd3d-d155-4344-e1e7-c916b21708d3"
      },
      "execution_count": 28,
      "outputs": [
        {
          "output_type": "stream",
          "name": "stdout",
          "text": [
            "[50.   29.75  0.   ...  0.    0.    0.  ]\n"
          ]
        }
      ]
    },
    {
      "cell_type": "code",
      "source": [
        "gasto_valido = gasto[gasto > 0]\n",
        "print(gasto_valido)"
      ],
      "metadata": {
        "colab": {
          "base_uri": "https://localhost:8080/"
        },
        "id": "4KA6SVCrpTtc",
        "outputId": "85e984cc-df27-4e98-dde4-454a5a542ad9"
      },
      "execution_count": 29,
      "outputs": [
        {
          "output_type": "stream",
          "name": "stdout",
          "text": [
            "[  50.     29.75   65.    145.     64.68   48.5    50.     90.     46.\n",
            "   28.3    29.15   29.75    7.5    64.68   50.     29.15   29.75   50.\n",
            "    7.5    30.8    50.     29.75   50.      5.3    12.    112.5   120.\n",
            "   48.5    50.     29.15   48.5   153.     30.8    48.5    50.     29.15\n",
            "   50.     48.5    29.75  200.     50.     85.    115.     90.     48.5\n",
            "    7.5    50.     50.    200.     29.75   29.15   50.     41.8    65.\n",
            "   64.68   50.     21.     48.5    48.5     7.5    50.     64.68   31.\n",
            "  200.     50.     29.15   64.68   85.     29.15    7.5    40.     65.\n",
            "   64.68   48.5    29.75  112.5     5.3    64.68   41.8   164.     48.5\n",
            "    7.5    29.15    7.5   153.     50.    200.     65.     48.5    48.5\n",
            "   30.8    50.     62.     65.     37.      7.5    90.     29.15  200.\n",
            "   50.      5.3    65.     50.     64.68   21.      7.5    50.     64.68\n",
            "   29.15   85.     90.     48.5    21.     29.15    7.5    37.     29.15\n",
            "   50.     50.    200.      5.3   350.     39.     50.     29.15   48.5\n",
            "   50.      5.3    65.     47.      7.5    29.15   29.75   50.    200.\n",
            "   50.     41.8    21.     37.     29.75   85.     50.     62.      7.5\n",
            "   48.5    29.15   90.     30.8    35.     64.68  200.    153.     30.8\n",
            "   50.    200.    112.5    21.     50.     30.8    37.    350.     50.\n",
            "   64.68   50.     50.     48.5    69.7    30.8    62.     30.8    90.\n",
            "   69.7    62.     29.75   62.     85.     64.68   50.     64.68  109.\n",
            "   29.15    5.3    41.8    62.     65.    153.     31.     64.68  200.\n",
            "   62.     64.68   62.     47.     29.75   62.    145.     90.     62.\n",
            "   48.5    90.     29.75   48.5    62.    200.     30.8     7.5   115.\n",
            "    5.3    39.     29.75   31.     29.75   62.     30.8    29.75   62.\n",
            "   90.     62.     29.15   29.75   35.     30.8    64.68   85.     37.\n",
            "   45.     62.    123.     48.5    41.8    62.     90.     62.     29.75\n",
            "  200.     30.8    65.    145.     65.     62.     31.     46.     62.\n",
            "  109.     65.     62.     37.     48.5    62.    200.     62.     62.\n",
            "   31.     29.15   64.68   48.5    65.     62.     62.    200.     90.\n",
            "    7.5    62.     47.    200.     62.    109.     29.15   62.     90.\n",
            "   62.     37.    109.     62.     31.    200.    109.     62.     29.15\n",
            "   29.75  200.     29.75  130.     40.     29.15  112.5    31.     37.\n",
            "  145.     29.75  109.      5.3    90.     85.    200.     25.     37.\n",
            "  115.     47.     62.     64.68  200.    164.     29.75   62.     64.68\n",
            "   29.15  123.     62.     64.68  153.     31.    200.     62.    350.\n",
            "   65.     41.8    64.68   48.5    62.     29.75   62.     31.     62.\n",
            "   29.75   48.5    69.7    48.5   109.     65.     35.     31.    200.\n",
            "   62.     90.     41.8    48.5   109.     65.    200.     31.     56.5\n",
            "   29.15   62.     21.    109.     37.    200.     15.    109.    109.\n",
            "  123.    200.     31.      5.3    41.8   153.     47.    200.    112.5\n",
            "  200.    109.     31.     56.5    37.    200.    120.     56.5   200.\n",
            "   56.5    41.8    31.     90.     29.    164.    123.     56.5    56.5\n",
            "   37.     90.    153.     56.5    62.    145.    200.    350.     90.\n",
            "   29.    109.     80.    200.     31.     90.     56.5   109.    200.\n",
            "   56.5   109.     56.5   109.    164.     56.5    80.     41.8    21.\n",
            "   29.     90.     41.8   109.    164.     37.     56.5   145.     31.\n",
            "  109.    200.     90.    164.    200.    109.     80.     56.5    47.\n",
            "   41.8   120.     56.5    41.8    29.     40.    109.     31.     56.5\n",
            "  140.     80.     41.8    55.    200.    350.     29.    112.5   200.\n",
            "  153.     65.     31.     40.    109.     37.     80.    109.     59.5\n",
            "   21.    109.    200.    109.     90.     41.8   200.    120.     80.\n",
            "  200.     59.5   164.    200.    109.     21.    109.    200.     41.8\n",
            "  112.5   200.    350.    109.     40.     59.5    90.    200.    140.\n",
            "   31.     31.    153.     37.     80.     90.    145.     21.     46.\n",
            "   90.    200.     90.     29.    200.    153.    164.     31.    450.\n",
            "   40.    200.    450.    109.    200.     25.    115.    164.    120.\n",
            "   45.    450.     40.     41.8   112.5   350.    200.     47.     59.5\n",
            "  200.    350.     46.    200.     46.    120.     41.8   140.    200.\n",
            "   21.    200.     29.     29.     59.5    41.8   164.    200.    450.\n",
            "   90.    120.     47.     29.    450.    164.    109.    450.     90.\n",
            "  130.    450.     41.8   200.    450.    109.    200.     21.    112.5\n",
            "  109.    450.    200.     29.    450.      7.     41.8   200.    164.\n",
            "  123.     40.    200.    450.     21.    123.     41.8   450.     45.\n",
            "  200.     90.    350.    200.    450.     29.75   29.75   29.15   64.68\n",
            "   31.     40.     29.      7.     29.    200.      7.    200.    200.\n",
            "  450.     64.68   41.8    21.     20.14  200.     40.    123.    115.\n",
            "  450.     90.    450.     21.    109.    200.     64.68  350.    450.\n",
            "  123.     64.68   47.    200.    450.     29.    109.     29.    450.\n",
            "   69.7    29.75   29.15  200.     40.     40.     21.     29.     69.7\n",
            "   30.8     7.    200.    109.     69.7    25.     40.    450.    200.\n",
            "   69.7   133.     64.68  200.     69.7    90.    450.     30.8   200.\n",
            "   41.8    29.     29.     47.    450.    164.    200.    164.     64.68\n",
            "  115.     40.     40.      7.    200.    153.    200.     41.8    40.\n",
            "   29.75   41.8    29.    109.     30.8   450.     29.75   25.     40.\n",
            "   40.    130.    200.    350.    190.    135.     30.8    48.5    64.68\n",
            "   69.7    29.75   47.     64.68   30.8    30.8   190.     29.     45.\n",
            "   30.8   190.     30.8    69.7    29.75   41.8    64.68   35.     25.\n",
            "  133.     40.    135.     41.8    40.     69.7   109.     47.     40.\n",
            "  133.     40.    450.     35.     29.     90.    200.    450.    164.\n",
            "   64.68  450.     25.    109.     35.     41.8   450.     64.68  450.\n",
            "   41.8   450.     40.    450.     25.     45.     90.    450.    450.\n",
            "  450.     47.    450.    450.     69.7   450.     69.7   450.     40.\n",
            "   29.     35.    450.     40.     40.    450.     41.8    45.    450.\n",
            "   40.     69.7    45.    450.     35.     40.     64.68  450.     35.\n",
            "   30.8    25.    450.     40.     64.68   29.     40.     30.8    40.\n",
            "  450.    450.     40.     45.     40.     30.8    40.    450.     35.\n",
            "   30.8   450.     40.     30.8    40.     45.    450.     40.     30.8\n",
            "  450.     40.     25.    450.     30.8    40.    450.     40.    450.\n",
            "  450.     69.7    40.    450.     35.    450.    450.    450.     40.\n",
            "   29.75  450.     40.     40.    450.    450.     40.    450.     25.\n",
            "   40.    450.    450.    450.     20.    450.    450.    450.    450.\n",
            "   40.     40.    450.    450.     69.7   450.     25.    450.    450.\n",
            "   40.    450.     29.75   40.     40.    450.     45.    450.     69.7\n",
            "  450.     35.    450.    450.     30.8    35.     25.    450.    450.\n",
            "  450.     40.    450.     40.    450.    450.    450.     30.8   136.6\n",
            "  450.     29.75  450.    450.    450.     35.    450.    450.    450.\n",
            "  450.    450.     40.    450.    450.    450.    450.    450.    450.\n",
            "   30.8   136.6   450.     40.    136.6   450.    450.    136.6   450.\n",
            "  450.     35.    450.    450.    450.    450.   5000.    450.     35.\n",
            "   30.8    30.8    30.8  5000.     30.8   450.    450.    450.    450.\n",
            "   30.8   450.    450.    450.    450.    450.    450.    450.    450.\n",
            "  450.     30.8   450.    450.    450.    450.    450.     30.8   450.\n",
            "  450.    450.     30.8   450.    450.    450.    450.   1160.   1160.\n",
            " 1160.   1160.   1160.   1160.   1160.   1160.     59.   1160.     59.\n",
            "   59.   1160.     59.   1160.     59.     59.     59.     59.     59.\n",
            "   59.   1160.     59.     59.     59.   1160.     59.     59.     59.\n",
            "   59.     59.     59.     59.     59.     59.     63.23   63.23   63.23\n",
            "   63.23]\n"
          ]
        }
      ]
    },
    {
      "cell_type": "code",
      "source": [
        "print(np.mean(gasto_valido))"
      ],
      "metadata": {
        "colab": {
          "base_uri": "https://localhost:8080/"
        },
        "id": "_e6pWNOEqQGK",
        "outputId": "1ea02f34-cab2-4cda-b031-59dfe0613cc2"
      },
      "execution_count": 32,
      "outputs": [
        {
          "output_type": "stream",
          "name": "stdout",
          "text": [
            "153.7921991701245\n"
          ]
        }
      ]
    },
    {
      "cell_type": "markdown",
      "source": [
        "3)"
      ],
      "metadata": {
        "id": "FkioYGvEq1rg"
      }
    },
    {
      "cell_type": "code",
      "source": [
        "np.argwhere(dataset == 'Location')"
      ],
      "metadata": {
        "colab": {
          "base_uri": "https://localhost:8080/"
        },
        "id": "r0C0RGy_q2fe",
        "outputId": "6105fe1c-4b59-4011-ac0a-61ef2a386ae4"
      },
      "execution_count": 33,
      "outputs": [
        {
          "output_type": "execute_result",
          "data": {
            "text/plain": [
              "array([[0, 2]])"
            ]
          },
          "metadata": {},
          "execution_count": 33
        }
      ]
    },
    {
      "cell_type": "code",
      "source": [
        "loc = dataset[1:, 2]\n",
        "print(loc)"
      ],
      "metadata": {
        "colab": {
          "base_uri": "https://localhost:8080/"
        },
        "id": "iLpnDBJWrIPw",
        "outputId": "404bcb85-533e-497f-b4fc-bc3d34dc9fe8"
      },
      "execution_count": 36,
      "outputs": [
        {
          "output_type": "stream",
          "name": "stdout",
          "text": [
            "['LC-39A Kennedy Space Center Florida USA'\n",
            " 'Site 9401 (SLS-2) Jiuquan Satellite Launch Center China'\n",
            " 'Pad A Boca Chica Texas USA' ... 'LC-18A Cape Canaveral AFS Florida USA'\n",
            " 'Site 1/5 Baikonur Cosmodrome Kazakhstan'\n",
            " 'Site 1/5 Baikonur Cosmodrome Kazakhstan']\n"
          ]
        }
      ]
    },
    {
      "cell_type": "code",
      "source": [
        "us = np.char.find(loc, 'USA') >= 0\n",
        "print(us)"
      ],
      "metadata": {
        "colab": {
          "base_uri": "https://localhost:8080/"
        },
        "id": "mhjlwJkHrb8k",
        "outputId": "cefc51ae-cd68-4d1e-ea48-c54ce07acd36"
      },
      "execution_count": 38,
      "outputs": [
        {
          "output_type": "stream",
          "name": "stdout",
          "text": [
            "[ True False  True ...  True False False]\n"
          ]
        }
      ]
    },
    {
      "cell_type": "code",
      "source": [
        "print(np.sum(us == True))"
      ],
      "metadata": {
        "colab": {
          "base_uri": "https://localhost:8080/"
        },
        "id": "0IvgqYojsAn0",
        "outputId": "4ae7ab10-2687-4904-cbbb-700d0d0965ff"
      },
      "execution_count": 39,
      "outputs": [
        {
          "output_type": "stream",
          "name": "stdout",
          "text": [
            "1344\n"
          ]
        }
      ]
    },
    {
      "cell_type": "markdown",
      "source": [
        "4)"
      ],
      "metadata": {
        "id": "Ie6I92nisasd"
      }
    },
    {
      "cell_type": "code",
      "source": [
        "np.argwhere(dataset == 'Company Name')"
      ],
      "metadata": {
        "colab": {
          "base_uri": "https://localhost:8080/"
        },
        "id": "0_ByASrDsbU3",
        "outputId": "278add00-c90b-4a4f-b8a0-063b33149d57"
      },
      "execution_count": 40,
      "outputs": [
        {
          "output_type": "execute_result",
          "data": {
            "text/plain": [
              "array([[0, 1]])"
            ]
          },
          "metadata": {},
          "execution_count": 40
        }
      ]
    },
    {
      "cell_type": "code",
      "source": [
        "index_spacex = np.argwhere(dataset == 'SpaceX')\n",
        "print(index_spacex)"
      ],
      "metadata": {
        "colab": {
          "base_uri": "https://localhost:8080/"
        },
        "id": "cwuVtC24s1pe",
        "outputId": "682d5e3e-5cdf-4573-d616-c3076950ec3c"
      },
      "execution_count": 41,
      "outputs": [
        {
          "output_type": "stream",
          "name": "stdout",
          "text": [
            "[[  1   1]\n",
            " [  3   1]\n",
            " [  9   1]\n",
            " [ 18   1]\n",
            " [ 21   1]\n",
            " [ 24   1]\n",
            " [ 26   1]\n",
            " [ 35   1]\n",
            " [ 42   1]\n",
            " [ 46   1]\n",
            " [ 50   1]\n",
            " [ 57   1]\n",
            " [ 58   1]\n",
            " [ 63   1]\n",
            " [ 70   1]\n",
            " [ 79   1]\n",
            " [ 88   1]\n",
            " [114   1]\n",
            " [120   1]\n",
            " [130   1]\n",
            " [133   1]\n",
            " [137   1]\n",
            " [142   1]\n",
            " [147   1]\n",
            " [159   1]\n",
            " [161   1]\n",
            " [171   1]\n",
            " [176   1]\n",
            " [184   1]\n",
            " [186   1]\n",
            " [195   1]\n",
            " [211   1]\n",
            " [218   1]\n",
            " [224   1]\n",
            " [227   1]\n",
            " [229   1]\n",
            " [234   1]\n",
            " [240   1]\n",
            " [242   1]\n",
            " [245   1]\n",
            " [252   1]\n",
            " [258   1]\n",
            " [260   1]\n",
            " [267   1]\n",
            " [270   1]\n",
            " [273   1]\n",
            " [277   1]\n",
            " [289   1]\n",
            " [293   1]\n",
            " [297   1]\n",
            " [311   1]\n",
            " [315   1]\n",
            " [317   1]\n",
            " [324   1]\n",
            " [327   1]\n",
            " [332   1]\n",
            " [338   1]\n",
            " [341   1]\n",
            " [342   1]\n",
            " [350   1]\n",
            " [356   1]\n",
            " [359   1]\n",
            " [364   1]\n",
            " [367   1]\n",
            " [372   1]\n",
            " [379   1]\n",
            " [414   1]\n",
            " [419   1]\n",
            " [423   1]\n",
            " [432   1]\n",
            " [439   1]\n",
            " [442   1]\n",
            " [446   1]\n",
            " [458   1]\n",
            " [470   1]\n",
            " [472   1]\n",
            " [500   1]\n",
            " [505   1]\n",
            " [507   1]\n",
            " [515   1]\n",
            " [517   1]\n",
            " [523   1]\n",
            " [539   1]\n",
            " [542   1]\n",
            " [545   1]\n",
            " [549   1]\n",
            " [563   1]\n",
            " [575   1]\n",
            " [581   1]\n",
            " [587   1]\n",
            " [614   1]\n",
            " [630   1]\n",
            " [648   1]\n",
            " [705   1]\n",
            " [723   1]\n",
            " [764   1]\n",
            " [801   1]\n",
            " [809   1]\n",
            " [880   1]\n",
            " [930   1]]\n"
          ]
        }
      ]
    },
    {
      "cell_type": "code",
      "source": [
        "index_spacex[:,0]"
      ],
      "metadata": {
        "colab": {
          "base_uri": "https://localhost:8080/"
        },
        "id": "H6eZ_YjttDWx",
        "outputId": "5fbad428-c5fb-41fb-c360-8c89a6d39946"
      },
      "execution_count": 43,
      "outputs": [
        {
          "output_type": "execute_result",
          "data": {
            "text/plain": [
              "array([  1,   3,   9,  18,  21,  24,  26,  35,  42,  46,  50,  57,  58,\n",
              "        63,  70,  79,  88, 114, 120, 130, 133, 137, 142, 147, 159, 161,\n",
              "       171, 176, 184, 186, 195, 211, 218, 224, 227, 229, 234, 240, 242,\n",
              "       245, 252, 258, 260, 267, 270, 273, 277, 289, 293, 297, 311, 315,\n",
              "       317, 324, 327, 332, 338, 341, 342, 350, 356, 359, 364, 367, 372,\n",
              "       379, 414, 419, 423, 432, 439, 442, 446, 458, 470, 472, 500, 505,\n",
              "       507, 515, 517, 523, 539, 542, 545, 549, 563, 575, 581, 587, 614,\n",
              "       630, 648, 705, 723, 764, 801, 809, 880, 930])"
            ]
          },
          "metadata": {},
          "execution_count": 43
        }
      ]
    },
    {
      "cell_type": "code",
      "source": [
        "np.argwhere(dataset == ' Cost')"
      ],
      "metadata": {
        "colab": {
          "base_uri": "https://localhost:8080/"
        },
        "id": "H8ppv95Jtk1F",
        "outputId": "ffb7185d-bf96-45e6-a45e-4d2840cc2338"
      },
      "execution_count": 44,
      "outputs": [
        {
          "output_type": "execute_result",
          "data": {
            "text/plain": [
              "array([[0, 6]])"
            ]
          },
          "metadata": {},
          "execution_count": 44
        }
      ]
    },
    {
      "cell_type": "code",
      "source": [
        "spacex_custo = dataset[index_spacex[:,0], 6].astype(float)\n",
        "print(spacex_custo)"
      ],
      "metadata": {
        "colab": {
          "base_uri": "https://localhost:8080/"
        },
        "id": "jEiOVQG_u5Ba",
        "outputId": "1e128d40-6d42-421d-a3af-62eb14c640cc"
      },
      "execution_count": 45,
      "outputs": [
        {
          "output_type": "stream",
          "name": "stdout",
          "text": [
            "[50.   0.  50.  50.  50.  50.  50.  50.  50.  50.  50.  50.  50.  50.\n",
            " 50.  50.  50.  50.  50.  90.  50.  50.  50.  90.  50.  50.  50.  50.\n",
            " 50.  50.  50.  50.  50.  50.  50.  50.  62.  62.  62.  50.  62.  62.\n",
            " 62.  62.  62.  90.  62.  62.  62.  62.  62.  62.  62.  62.  62.  62.\n",
            " 62.  62.  62.  62.  62.  62.  62.  62.  62.  62.  62.  62.  62.  62.\n",
            " 62.  62.  62.  62.  56.5 62.  56.5 56.5 56.5 56.5 56.5 56.5 56.5 56.5\n",
            " 56.5 56.5 56.5 56.5 56.5 56.5 59.5 59.5 59.5 59.5 59.5  7.   7.   7.\n",
            "  7.   7. ]\n"
          ]
        }
      ]
    },
    {
      "cell_type": "code",
      "source": [
        "print(np.max(spacex_custo))"
      ],
      "metadata": {
        "colab": {
          "base_uri": "https://localhost:8080/"
        },
        "id": "v_9bJcaWvHI8",
        "outputId": "02f9913f-4c97-437f-9e38-9bc779cb201d"
      },
      "execution_count": 46,
      "outputs": [
        {
          "output_type": "stream",
          "name": "stdout",
          "text": [
            "90.0\n"
          ]
        }
      ]
    },
    {
      "cell_type": "markdown",
      "source": [
        "5)"
      ],
      "metadata": {
        "id": "JDaCgGxRvTAQ"
      }
    },
    {
      "cell_type": "code",
      "source": [
        "np.argwhere(dataset == 'Company Name')"
      ],
      "metadata": {
        "colab": {
          "base_uri": "https://localhost:8080/"
        },
        "id": "569-KQwXvT34",
        "outputId": "f2207ec4-23a9-40d4-ab8f-707a7d240e67"
      },
      "execution_count": 47,
      "outputs": [
        {
          "output_type": "execute_result",
          "data": {
            "text/plain": [
              "array([[0, 1]])"
            ]
          },
          "metadata": {},
          "execution_count": 47
        }
      ]
    },
    {
      "cell_type": "code",
      "source": [
        "empresas = dataset[:, 1]\n",
        "print(empresas)"
      ],
      "metadata": {
        "colab": {
          "base_uri": "https://localhost:8080/"
        },
        "id": "X0ju8tu9xsyD",
        "outputId": "fbbd1269-a12d-46bc-bff9-88e289bc03e2"
      },
      "execution_count": 49,
      "outputs": [
        {
          "output_type": "stream",
          "name": "stdout",
          "text": [
            "['Company Name' 'SpaceX' 'CASC' ... 'US Navy' 'RVSN USSR' 'RVSN USSR']\n"
          ]
        }
      ]
    },
    {
      "cell_type": "code",
      "source": [
        "empresa_nome, contagem = np.unique(empresas, return_counts=True)"
      ],
      "metadata": {
        "id": "IRiraUArxyZ6"
      },
      "execution_count": 51,
      "outputs": []
    },
    {
      "cell_type": "code",
      "source": [
        "print(empresa_nome)"
      ],
      "metadata": {
        "colab": {
          "base_uri": "https://localhost:8080/"
        },
        "id": "slsFyw8tyhHo",
        "outputId": "83fe1b90-f0a2-4feb-c0c7-a73b88d4da4b"
      },
      "execution_count": 52,
      "outputs": [
        {
          "output_type": "stream",
          "name": "stdout",
          "text": [
            "['AEB' 'AMBA' 'ASI' 'Arianespace' \"Arm??e de l'Air\" 'Blue Origin' 'Boeing'\n",
            " 'CASC' 'CASIC' 'CECLES' 'CNES' 'Company Name' 'Douglas' 'EER' 'ESA'\n",
            " 'Eurockot' 'ExPace' 'Exos' 'General Dynamics' 'IAI' 'ILS' 'IRGC' 'ISA'\n",
            " 'ISAS' 'ISRO' 'JAXA' 'KARI' 'KCST' 'Khrunichev' 'Kosmotras' 'Land Launch'\n",
            " 'Landspace' 'Lockheed' 'MHI' 'MITT' 'Martin Marietta' 'NASA' 'Northrop'\n",
            " 'OKB-586' 'OneSpace' 'RAE' 'RVSN USSR' 'Rocket Lab' 'Roscosmos' 'SRC'\n",
            " 'Sandia' 'Sea Launch' 'SpaceX' 'Starsem' 'ULA' 'US Air Force' 'US Navy'\n",
            " 'UT' 'VKS RF' 'Virgin Orbit' 'Yuzhmash' 'i-Space']\n"
          ]
        }
      ]
    },
    {
      "cell_type": "code",
      "source": [
        "print(contagem)"
      ],
      "metadata": {
        "colab": {
          "base_uri": "https://localhost:8080/"
        },
        "id": "yeHWeTimyksp",
        "outputId": "d914f64f-1fde-40a2-914e-cca84e199ec0"
      },
      "execution_count": 53,
      "outputs": [
        {
          "output_type": "stream",
          "name": "stdout",
          "text": [
            "[   3    8    9  279    4   12  136  251    5    4    8    1    1    1\n",
            "   13   13   10    4  251   11   46    1   13   30   76    7    3    5\n",
            "    1   22    7    1   79   84    7  114  203   83    2    1    2 1777\n",
            "   13   55    3    1   36  100    1  140  161   17    5  201    1    2\n",
            "    1]\n"
          ]
        }
      ]
    },
    {
      "cell_type": "code",
      "source": [
        "for empresa, i in zip(empresa_nome, contagem):\n",
        "    print(f\"{empresa}: {i} missões\")\n"
      ],
      "metadata": {
        "colab": {
          "base_uri": "https://localhost:8080/"
        },
        "id": "ZaeeEHEMy1-O",
        "outputId": "19c501ff-3622-4cb6-8d83-44bceb10e620"
      },
      "execution_count": 54,
      "outputs": [
        {
          "output_type": "stream",
          "name": "stdout",
          "text": [
            "AEB: 3 missões\n",
            "AMBA: 8 missões\n",
            "ASI: 9 missões\n",
            "Arianespace: 279 missões\n",
            "Arm??e de l'Air: 4 missões\n",
            "Blue Origin: 12 missões\n",
            "Boeing: 136 missões\n",
            "CASC: 251 missões\n",
            "CASIC: 5 missões\n",
            "CECLES: 4 missões\n",
            "CNES: 8 missões\n",
            "Company Name: 1 missões\n",
            "Douglas: 1 missões\n",
            "EER: 1 missões\n",
            "ESA: 13 missões\n",
            "Eurockot: 13 missões\n",
            "ExPace: 10 missões\n",
            "Exos: 4 missões\n",
            "General Dynamics: 251 missões\n",
            "IAI: 11 missões\n",
            "ILS: 46 missões\n",
            "IRGC: 1 missões\n",
            "ISA: 13 missões\n",
            "ISAS: 30 missões\n",
            "ISRO: 76 missões\n",
            "JAXA: 7 missões\n",
            "KARI: 3 missões\n",
            "KCST: 5 missões\n",
            "Khrunichev: 1 missões\n",
            "Kosmotras: 22 missões\n",
            "Land Launch: 7 missões\n",
            "Landspace: 1 missões\n",
            "Lockheed: 79 missões\n",
            "MHI: 84 missões\n",
            "MITT: 7 missões\n",
            "Martin Marietta: 114 missões\n",
            "NASA: 203 missões\n",
            "Northrop: 83 missões\n",
            "OKB-586: 2 missões\n",
            "OneSpace: 1 missões\n",
            "RAE: 2 missões\n",
            "RVSN USSR: 1777 missões\n",
            "Rocket Lab: 13 missões\n",
            "Roscosmos: 55 missões\n",
            "SRC: 3 missões\n",
            "Sandia: 1 missões\n",
            "Sea Launch: 36 missões\n",
            "SpaceX: 100 missões\n",
            "Starsem: 1 missões\n",
            "ULA: 140 missões\n",
            "US Air Force: 161 missões\n",
            "US Navy: 17 missões\n",
            "UT: 5 missões\n",
            "VKS RF: 201 missões\n",
            "Virgin Orbit: 1 missões\n",
            "Yuzhmash: 2 missões\n",
            "i-Space: 1 missões\n"
          ]
        }
      ]
    }
  ]
}