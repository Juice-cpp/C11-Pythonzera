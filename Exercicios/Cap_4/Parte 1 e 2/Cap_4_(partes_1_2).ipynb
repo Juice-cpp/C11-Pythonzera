{
  "nbformat": 4,
  "nbformat_minor": 0,
  "metadata": {
    "colab": {
      "provenance": []
    },
    "kernelspec": {
      "name": "python3",
      "display_name": "Python 3"
    },
    "language_info": {
      "name": "python"
    }
  },
  "cells": [
    {
      "cell_type": "code",
      "execution_count": 1,
      "metadata": {
        "id": "XIJ619az6PDa"
      },
      "outputs": [],
      "source": [
        "import numpy as np"
      ]
    },
    {
      "cell_type": "markdown",
      "source": [
        "# 1)"
      ],
      "metadata": {
        "id": "5gx-L5na_wqK"
      }
    },
    {
      "cell_type": "code",
      "source": [
        "arr1 = np.ones(8)\n",
        "arr2 = np.random.randint(0, 10, 8)"
      ],
      "metadata": {
        "id": "Ku0Xp8ol_yhh"
      },
      "execution_count": 2,
      "outputs": []
    },
    {
      "cell_type": "code",
      "source": [
        "print(arr1)\n",
        "print(arr2)"
      ],
      "metadata": {
        "colab": {
          "base_uri": "https://localhost:8080/"
        },
        "id": "H3Mf3WFGAHw6",
        "outputId": "5fe1db93-6666-48aa-eb0d-4cf56007201a"
      },
      "execution_count": 3,
      "outputs": [
        {
          "output_type": "stream",
          "name": "stdout",
          "text": [
            "[1. 1. 1. 1. 1. 1. 1. 1.]\n",
            "[1 1 9 8 1 2 4 6]\n"
          ]
        }
      ]
    },
    {
      "cell_type": "code",
      "source": [
        "arr3 = (arr1 + arr2)"
      ],
      "metadata": {
        "id": "TLc_FqzeAhDf"
      },
      "execution_count": 4,
      "outputs": []
    },
    {
      "cell_type": "code",
      "source": [
        "print(arr3)"
      ],
      "metadata": {
        "colab": {
          "base_uri": "https://localhost:8080/"
        },
        "id": "hGm4u3DjA0FL",
        "outputId": "c1dd14df-8ed1-4f7c-a6e0-9927306e8b88"
      },
      "execution_count": 5,
      "outputs": [
        {
          "output_type": "stream",
          "name": "stdout",
          "text": [
            "[ 2.  2. 10.  9.  2.  3.  5.  7.]\n"
          ]
        }
      ]
    },
    {
      "cell_type": "code",
      "source": [
        "var = arr3.sum()\n",
        "print(var)"
      ],
      "metadata": {
        "colab": {
          "base_uri": "https://localhost:8080/"
        },
        "id": "v5rV_PkaA1pc",
        "outputId": "14180f0c-d994-4600-f18d-47339f5b6750"
      },
      "execution_count": 6,
      "outputs": [
        {
          "output_type": "stream",
          "name": "stdout",
          "text": [
            "40.0\n"
          ]
        }
      ]
    },
    {
      "cell_type": "code",
      "source": [
        "if var >= 40:\n",
        "  mtz = arr3.reshape(4, 2)\n",
        "else:\n",
        "  mtz = arr3.reshape(2, 4)\n",
        "\n",
        "print(mtz)"
      ],
      "metadata": {
        "colab": {
          "base_uri": "https://localhost:8080/"
        },
        "id": "4mke6mg8BJcv",
        "outputId": "0d4e5433-9db6-40f1-a977-e5ad62676e23"
      },
      "execution_count": 7,
      "outputs": [
        {
          "output_type": "stream",
          "name": "stdout",
          "text": [
            "[[ 2.  2.]\n",
            " [10.  9.]\n",
            " [ 2.  3.]\n",
            " [ 5.  7.]]\n"
          ]
        }
      ]
    },
    {
      "cell_type": "markdown",
      "source": [
        "# 2)"
      ],
      "metadata": {
        "id": "8uqZBjtWCVKz"
      }
    },
    {
      "cell_type": "code",
      "source": [
        "arr4 = np.arange(0, 51, 2)\n",
        "arr5 = np.arange(100, 50, -2)"
      ],
      "metadata": {
        "id": "gFhs5aV1CWCq"
      },
      "execution_count": 8,
      "outputs": []
    },
    {
      "cell_type": "code",
      "source": [
        "print(arr4)\n",
        "print(arr5)"
      ],
      "metadata": {
        "colab": {
          "base_uri": "https://localhost:8080/"
        },
        "id": "1o_Zvik2EQ5m",
        "outputId": "8f0d6d54-2bc2-45ce-fa6f-63da8675efb6"
      },
      "execution_count": 9,
      "outputs": [
        {
          "output_type": "stream",
          "name": "stdout",
          "text": [
            "[ 0  2  4  6  8 10 12 14 16 18 20 22 24 26 28 30 32 34 36 38 40 42 44 46\n",
            " 48 50]\n",
            "[100  98  96  94  92  90  88  86  84  82  80  78  76  74  72  70  68  66\n",
            "  64  62  60  58  56  54  52]\n"
          ]
        }
      ]
    },
    {
      "cell_type": "code",
      "source": [
        "arr6 = np.sort(np.concatenate((arr4, arr5)))"
      ],
      "metadata": {
        "id": "dfXS4LIMGx6y"
      },
      "execution_count": 10,
      "outputs": []
    },
    {
      "cell_type": "code",
      "source": [
        "print(arr6)"
      ],
      "metadata": {
        "colab": {
          "base_uri": "https://localhost:8080/"
        },
        "id": "2eye6-xqHEQB",
        "outputId": "57935e12-8e0e-4c55-b98f-b3187a76d48d"
      },
      "execution_count": 11,
      "outputs": [
        {
          "output_type": "stream",
          "name": "stdout",
          "text": [
            "[  0   2   4   6   8  10  12  14  16  18  20  22  24  26  28  30  32  34\n",
            "  36  38  40  42  44  46  48  50  52  54  56  58  60  62  64  66  68  70\n",
            "  72  74  76  78  80  82  84  86  88  90  92  94  96  98 100]\n"
          ]
        }
      ]
    },
    {
      "cell_type": "markdown",
      "source": [
        "# 3)"
      ],
      "metadata": {
        "id": "MxzFqadtIM-T"
      }
    },
    {
      "cell_type": "markdown",
      "source": [
        "a)"
      ],
      "metadata": {
        "id": "JZG5vj_NIWSp"
      }
    },
    {
      "cell_type": "code",
      "source": [
        "mtz_campo = np.zeros(4).reshape(2, 2)"
      ],
      "metadata": {
        "id": "N9SUFOimIXYV"
      },
      "execution_count": 12,
      "outputs": []
    },
    {
      "cell_type": "code",
      "source": [
        "print(mtz_campo)"
      ],
      "metadata": {
        "colab": {
          "base_uri": "https://localhost:8080/"
        },
        "id": "nvQRKQlaJHZO",
        "outputId": "1d482e4a-e59f-4fd2-f2c9-d1b8da76c8d3"
      },
      "execution_count": 13,
      "outputs": [
        {
          "output_type": "stream",
          "name": "stdout",
          "text": [
            "[[0. 0.]\n",
            " [0. 0.]]\n"
          ]
        }
      ]
    },
    {
      "cell_type": "markdown",
      "source": [
        "b)"
      ],
      "metadata": {
        "id": "v3sVaZrHJUL5"
      }
    },
    {
      "cell_type": "code",
      "source": [
        "coord = np.random.randint(0, 2, 2)\n",
        "print(coord)"
      ],
      "metadata": {
        "colab": {
          "base_uri": "https://localhost:8080/"
        },
        "id": "cWYHnpafJVZU",
        "outputId": "b96c407c-2a33-484f-ed9e-167a76675ecf"
      },
      "execution_count": 14,
      "outputs": [
        {
          "output_type": "stream",
          "name": "stdout",
          "text": [
            "[0 0]\n"
          ]
        }
      ]
    },
    {
      "cell_type": "code",
      "source": [
        "mtz_campo[coord[0], coord[1]] = 1\n",
        "print(mtz_campo)"
      ],
      "metadata": {
        "colab": {
          "base_uri": "https://localhost:8080/"
        },
        "id": "E-wwd3LbJfry",
        "outputId": "6e65ddb4-0e23-4eae-fe8e-96a0d5891067"
      },
      "execution_count": 15,
      "outputs": [
        {
          "output_type": "stream",
          "name": "stdout",
          "text": [
            "[[1. 0.]\n",
            " [0. 0.]]\n"
          ]
        }
      ]
    },
    {
      "cell_type": "markdown",
      "source": [
        "c)"
      ],
      "metadata": {
        "id": "RTi_zohHJ7fG"
      }
    },
    {
      "cell_type": "code",
      "source": [
        "vict = True\n",
        "for i in range(0, np.size(mtz_campo) - 1):\n",
        "  x = int(input('Insira a posição X: '))\n",
        "  y = int(input('Insira a posição y: '))\n",
        "  if mtz_campo[x, y] == 1:\n",
        "    print('Game Over!:( Try Again!')\n",
        "    vict = False\n",
        "    break\n",
        "\n",
        "if vict:\n",
        "  print('Congratulations! You beat the game!:)')"
      ],
      "metadata": {
        "colab": {
          "base_uri": "https://localhost:8080/"
        },
        "id": "5lAyjuuOJ8Gg",
        "outputId": "b65e9254-9d0c-4395-c02d-137e268457ac"
      },
      "execution_count": 17,
      "outputs": [
        {
          "output_type": "stream",
          "name": "stdout",
          "text": [
            "Insira a posição X: 0\n",
            "Insira a posição y: 1\n",
            "Insira a posição X: 1\n",
            "Insira a posição y: 0\n",
            "Insira a posição X: 1\n",
            "Insira a posição y: 1\n",
            "Congratulations! You beat the game!:)\n"
          ]
        }
      ]
    },
    {
      "cell_type": "markdown",
      "source": [
        "# 4)"
      ],
      "metadata": {
        "id": "JDS5T25suwbf"
      }
    },
    {
      "cell_type": "code",
      "source": [
        "mtz_dim = np.random.randint(0, 10, 2)\n",
        "print(mtz_dim)"
      ],
      "metadata": {
        "colab": {
          "base_uri": "https://localhost:8080/"
        },
        "id": "5GSq6iV-uzpT",
        "outputId": "0616679d-9d0b-40c0-8e86-39270783d020"
      },
      "execution_count": 31,
      "outputs": [
        {
          "output_type": "stream",
          "name": "stdout",
          "text": [
            "[9 7]\n"
          ]
        }
      ]
    },
    {
      "cell_type": "code",
      "source": [
        "mtz2 = np.ones(mtz_dim[0] * mtz_dim[1]).reshape(mtz_dim[0], mtz_dim[1])\n",
        "print(mtz2)"
      ],
      "metadata": {
        "colab": {
          "base_uri": "https://localhost:8080/"
        },
        "id": "atiSqlgFy_1w",
        "outputId": "4736d884-29c8-4380-cc32-517abbc61af4"
      },
      "execution_count": 32,
      "outputs": [
        {
          "output_type": "stream",
          "name": "stdout",
          "text": [
            "[[1. 1. 1. 1. 1. 1. 1.]\n",
            " [1. 1. 1. 1. 1. 1. 1.]\n",
            " [1. 1. 1. 1. 1. 1. 1.]\n",
            " [1. 1. 1. 1. 1. 1. 1.]\n",
            " [1. 1. 1. 1. 1. 1. 1.]\n",
            " [1. 1. 1. 1. 1. 1. 1.]\n",
            " [1. 1. 1. 1. 1. 1. 1.]\n",
            " [1. 1. 1. 1. 1. 1. 1.]\n",
            " [1. 1. 1. 1. 1. 1. 1.]]\n"
          ]
        }
      ]
    },
    {
      "cell_type": "code",
      "source": [
        "print(mtz2.shape)"
      ],
      "metadata": {
        "colab": {
          "base_uri": "https://localhost:8080/"
        },
        "id": "j-ZmB0YvzpIR",
        "outputId": "4f6b818f-8314-4670-fca9-29db4c29826d"
      },
      "execution_count": 33,
      "outputs": [
        {
          "output_type": "stream",
          "name": "stdout",
          "text": [
            "(9, 7)\n"
          ]
        }
      ]
    },
    {
      "cell_type": "code",
      "source": [
        "mtz_tam = np.prod(mtz2.shape)\n",
        "print(mtz_tam)"
      ],
      "metadata": {
        "colab": {
          "base_uri": "https://localhost:8080/"
        },
        "id": "5xmiXeZXz5ft",
        "outputId": "747e2cbf-24ed-4682-828c-734be9b5e4b0"
      },
      "execution_count": 49,
      "outputs": [
        {
          "output_type": "stream",
          "name": "stdout",
          "text": [
            "63\n"
          ]
        }
      ]
    },
    {
      "cell_type": "code",
      "source": [
        "if mtz_tam % 2 == 0: print('Vetor unidimensional com número PAR de elementos.')\n",
        "else: print('Vetor unidimensional com número ÍMPAR de elementos.')"
      ],
      "metadata": {
        "colab": {
          "base_uri": "https://localhost:8080/"
        },
        "id": "4jEcNJAh1XQJ",
        "outputId": "629e7483-c01a-451a-d0dd-ba3b2e162b4d"
      },
      "execution_count": 50,
      "outputs": [
        {
          "output_type": "stream",
          "name": "stdout",
          "text": [
            "Vetor unidimensional com número ÍMPAR de elementos.\n"
          ]
        }
      ]
    },
    {
      "cell_type": "markdown",
      "source": [
        "# 5)"
      ],
      "metadata": {
        "id": "8NM77x6g4CYh"
      }
    },
    {
      "cell_type": "code",
      "source": [
        "np.random.seed(10)"
      ],
      "metadata": {
        "id": "onvqPh9v40Dt"
      },
      "execution_count": 73,
      "outputs": []
    },
    {
      "cell_type": "code",
      "source": [
        "mtz3 = np.random.randint(0, 51, 16).reshape(4, 4)\n",
        "print(mtz3)"
      ],
      "metadata": {
        "colab": {
          "base_uri": "https://localhost:8080/"
        },
        "id": "DGABG-Hf5IEu",
        "outputId": "9c3027a5-defc-48c8-eb01-fc8314c727e0"
      },
      "execution_count": 74,
      "outputs": [
        {
          "output_type": "stream",
          "name": "stdout",
          "text": [
            "[[ 9 36 15  0]\n",
            " [49 28 25 29]\n",
            " [48 29 49  8]\n",
            " [ 9  0 42 40]]\n"
          ]
        }
      ]
    },
    {
      "cell_type": "markdown",
      "source": [
        "a)"
      ],
      "metadata": {
        "id": "vkQP820H4zf_"
      }
    },
    {
      "cell_type": "code",
      "source": [
        "print('Média de cada linha:', np.mean(mtz3, axis = 1))\n",
        "print('Média de cada coluna:', np.mean(mtz3, axis = 0))"
      ],
      "metadata": {
        "colab": {
          "base_uri": "https://localhost:8080/"
        },
        "id": "ybsQcPG35bbT",
        "outputId": "be1e18d0-8846-4731-c3b7-3b4f92cff770"
      },
      "execution_count": 75,
      "outputs": [
        {
          "output_type": "stream",
          "name": "stdout",
          "text": [
            "Média de cada linha: [15.   32.75 33.5  22.75]\n",
            "Média de cada coluna: [28.75 23.25 32.75 19.25]\n"
          ]
        }
      ]
    },
    {
      "cell_type": "markdown",
      "source": [
        "b)"
      ],
      "metadata": {
        "id": "mtk87VqB69P-"
      }
    },
    {
      "cell_type": "code",
      "source": [
        "print('Maior média das linhas:', np.max(np.mean(mtz3, axis = 1)))\n",
        "print('Maior média das colunas:', np.max(np.mean(mtz3, axis = 0)))"
      ],
      "metadata": {
        "colab": {
          "base_uri": "https://localhost:8080/"
        },
        "id": "jXG5NFo-5ncW",
        "outputId": "892ab234-5909-4d7b-e197-d8205e39ba95"
      },
      "execution_count": 76,
      "outputs": [
        {
          "output_type": "stream",
          "name": "stdout",
          "text": [
            "Maior média das linhas: 33.5\n",
            "Maior média das colunas: 32.75\n"
          ]
        }
      ]
    },
    {
      "cell_type": "markdown",
      "source": [
        "c)"
      ],
      "metadata": {
        "id": "hk_Be8u47g5h"
      }
    },
    {
      "cell_type": "code",
      "source": [
        "contx, conty = np.unique(mtz3, return_counts = True)"
      ],
      "metadata": {
        "id": "fDhknsiC8c1U"
      },
      "execution_count": 106,
      "outputs": []
    },
    {
      "cell_type": "code",
      "source": [
        "print(contx)\n",
        "print(conty)"
      ],
      "metadata": {
        "colab": {
          "base_uri": "https://localhost:8080/"
        },
        "id": "6yuHAXqE7iAN",
        "outputId": "c48bef99-dc9b-4f54-a8ad-c666f588e294"
      },
      "execution_count": 113,
      "outputs": [
        {
          "output_type": "stream",
          "name": "stdout",
          "text": [
            "[ 0  8  9 15 25 28 29 36 40 42 48 49]\n",
            "[2 1 2 1 1 1 2 1 1 1 1 2]\n"
          ]
        }
      ]
    },
    {
      "cell_type": "code",
      "source": [
        "print(contx[np.where(conty == 2)])"
      ],
      "metadata": {
        "colab": {
          "base_uri": "https://localhost:8080/"
        },
        "id": "dPp5OzmHDk1-",
        "outputId": "7878032c-b653-442b-be18-9548a06f472a"
      },
      "execution_count": 115,
      "outputs": [
        {
          "output_type": "stream",
          "name": "stdout",
          "text": [
            "[ 0  9 29 49]\n"
          ]
        }
      ]
    }
  ]
}